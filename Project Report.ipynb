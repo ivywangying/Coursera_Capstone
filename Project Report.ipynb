{
    "nbformat_minor": 1, 
    "cells": [
        {
            "source": "# Neighborhood Final Project", 
            "cell_type": "markdown", 
            "attachments": {}, 
            "metadata": {
                "collapsed": true
            }
        }, 
        {
            "source": "## Introduction/Business Problem", 
            "cell_type": "markdown", 
            "metadata": {}
        }, 
        {
            "source": "Toronto is a diversified and multi-culture city. There are lots of business potentials regarding different culture background and traditions. In order to open a new business successfully, we need to explore the neighborhood and have some insight about the target area and people.\n\nTo open a restaurant in Toronto. The first few questions are: Where is the location? What kind of restaurant is the best fit for this selected location? To find the answer for those questions, we need to use related data and map to explore Toronto\u2019s neighborhood.", 
            "cell_type": "markdown", 
            "attachments": {}, 
            "metadata": {}
        }, 
        {
            "source": "## Data", 
            "cell_type": "markdown", 
            "metadata": {}
        }, 
        {
            "source": "I use the Wikipedia page of Canada\u2019s postal code list to create a Toronto neighborhood dataframe. Then use the coordinates of given borough or neighborhood to cluster and explore the most common venues in Forsquare API. ", 
            "cell_type": "markdown", 
            "attachments": {}, 
            "metadata": {}
        }
    ], 
    "metadata": {
        "kernelspec": {
            "display_name": "Python 3.6", 
            "name": "python3", 
            "language": "python"
        }, 
        "language_info": {
            "mimetype": "text/x-python", 
            "nbconvert_exporter": "python", 
            "version": "3.6.8", 
            "name": "python", 
            "file_extension": ".py", 
            "pygments_lexer": "ipython3", 
            "codemirror_mode": {
                "version": 3, 
                "name": "ipython"
            }
        }
    }, 
    "nbformat": 4
}